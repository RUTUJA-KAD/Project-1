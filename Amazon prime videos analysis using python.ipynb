{
 "cells": [
  {
   "cell_type": "markdown",
   "id": "bca4892a",
   "metadata": {},
   "source": [
    "<h2>importing Library</h2>\n"
   ]
  },
  {
   "cell_type": "code",
   "execution_count": 10,
   "id": "a28c4655",
   "metadata": {},
   "outputs": [],
   "source": [
    "import numpy as np\n",
    "import pandas as pd\n",
    "import matplotlib.pyplot as plt\n",
    "import seaborn as sns"
   ]
  },
  {
   "cell_type": "markdown",
   "id": "5222cb33",
   "metadata": {},
   "source": [
    "<h2>import dataset</h2>"
   ]
  },
  {
   "cell_type": "code",
   "execution_count": 5,
   "id": "de82c3b7",
   "metadata": {},
   "outputs": [],
   "source": [
    "amazon =pd.read_csv(r\"C:\\Users\\Rutu\\Downloads\\netflix_titles.csv\\netflix_titles.csv\")"
   ]
  },
  {
   "cell_type": "markdown",
   "id": "da7a1431",
   "metadata": {},
   "source": [
    "<h2>Data Preprocessing</h2>\n",
    "<h3>.head()</h3>\n",
    "head is used to show the by default =5 rows in the dataset"
   ]
  },
  {
   "cell_type": "code",
   "execution_count": 7,
   "id": "865ee2fd",
   "metadata": {},
   "outputs": [
    {
     "data": {
      "text/html": [
       "<div>\n",
       "<style scoped>\n",
       "    .dataframe tbody tr th:only-of-type {\n",
       "        vertical-align: middle;\n",
       "    }\n",
       "\n",
       "    .dataframe tbody tr th {\n",
       "        vertical-align: top;\n",
       "    }\n",
       "\n",
       "    .dataframe thead th {\n",
       "        text-align: right;\n",
       "    }\n",
       "</style>\n",
       "<table border=\"1\" class=\"dataframe\">\n",
       "  <thead>\n",
       "    <tr style=\"text-align: right;\">\n",
       "      <th></th>\n",
       "      <th>show_id</th>\n",
       "      <th>type</th>\n",
       "      <th>title</th>\n",
       "      <th>director</th>\n",
       "      <th>cast</th>\n",
       "      <th>country</th>\n",
       "      <th>date_added</th>\n",
       "      <th>release_year</th>\n",
       "      <th>rating</th>\n",
       "      <th>duration</th>\n",
       "      <th>listed_in</th>\n",
       "      <th>description</th>\n",
       "    </tr>\n",
       "  </thead>\n",
       "  <tbody>\n",
       "    <tr>\n",
       "      <th>0</th>\n",
       "      <td>s1</td>\n",
       "      <td>Movie</td>\n",
       "      <td>Dick Johnson Is Dead</td>\n",
       "      <td>Kirsten Johnson</td>\n",
       "      <td>NaN</td>\n",
       "      <td>United States</td>\n",
       "      <td>September 25, 2021</td>\n",
       "      <td>2020</td>\n",
       "      <td>PG-13</td>\n",
       "      <td>90 min</td>\n",
       "      <td>Documentaries</td>\n",
       "      <td>As her father nears the end of his life, filmm...</td>\n",
       "    </tr>\n",
       "    <tr>\n",
       "      <th>1</th>\n",
       "      <td>s2</td>\n",
       "      <td>TV Show</td>\n",
       "      <td>Blood &amp; Water</td>\n",
       "      <td>NaN</td>\n",
       "      <td>Ama Qamata, Khosi Ngema, Gail Mabalane, Thaban...</td>\n",
       "      <td>South Africa</td>\n",
       "      <td>September 24, 2021</td>\n",
       "      <td>2021</td>\n",
       "      <td>TV-MA</td>\n",
       "      <td>2 Seasons</td>\n",
       "      <td>International TV Shows, TV Dramas, TV Mysteries</td>\n",
       "      <td>After crossing paths at a party, a Cape Town t...</td>\n",
       "    </tr>\n",
       "    <tr>\n",
       "      <th>2</th>\n",
       "      <td>s3</td>\n",
       "      <td>TV Show</td>\n",
       "      <td>Ganglands</td>\n",
       "      <td>Julien Leclercq</td>\n",
       "      <td>Sami Bouajila, Tracy Gotoas, Samuel Jouy, Nabi...</td>\n",
       "      <td>NaN</td>\n",
       "      <td>September 24, 2021</td>\n",
       "      <td>2021</td>\n",
       "      <td>TV-MA</td>\n",
       "      <td>1 Season</td>\n",
       "      <td>Crime TV Shows, International TV Shows, TV Act...</td>\n",
       "      <td>To protect his family from a powerful drug lor...</td>\n",
       "    </tr>\n",
       "    <tr>\n",
       "      <th>3</th>\n",
       "      <td>s4</td>\n",
       "      <td>TV Show</td>\n",
       "      <td>Jailbirds New Orleans</td>\n",
       "      <td>NaN</td>\n",
       "      <td>NaN</td>\n",
       "      <td>NaN</td>\n",
       "      <td>September 24, 2021</td>\n",
       "      <td>2021</td>\n",
       "      <td>TV-MA</td>\n",
       "      <td>1 Season</td>\n",
       "      <td>Docuseries, Reality TV</td>\n",
       "      <td>Feuds, flirtations and toilet talk go down amo...</td>\n",
       "    </tr>\n",
       "    <tr>\n",
       "      <th>4</th>\n",
       "      <td>s5</td>\n",
       "      <td>TV Show</td>\n",
       "      <td>Kota Factory</td>\n",
       "      <td>NaN</td>\n",
       "      <td>Mayur More, Jitendra Kumar, Ranjan Raj, Alam K...</td>\n",
       "      <td>India</td>\n",
       "      <td>September 24, 2021</td>\n",
       "      <td>2021</td>\n",
       "      <td>TV-MA</td>\n",
       "      <td>2 Seasons</td>\n",
       "      <td>International TV Shows, Romantic TV Shows, TV ...</td>\n",
       "      <td>In a city of coaching centers known to train I...</td>\n",
       "    </tr>\n",
       "  </tbody>\n",
       "</table>\n",
       "</div>"
      ],
      "text/plain": [
       "  show_id     type                  title         director  \\\n",
       "0      s1    Movie   Dick Johnson Is Dead  Kirsten Johnson   \n",
       "1      s2  TV Show          Blood & Water              NaN   \n",
       "2      s3  TV Show              Ganglands  Julien Leclercq   \n",
       "3      s4  TV Show  Jailbirds New Orleans              NaN   \n",
       "4      s5  TV Show           Kota Factory              NaN   \n",
       "\n",
       "                                                cast        country  \\\n",
       "0                                                NaN  United States   \n",
       "1  Ama Qamata, Khosi Ngema, Gail Mabalane, Thaban...   South Africa   \n",
       "2  Sami Bouajila, Tracy Gotoas, Samuel Jouy, Nabi...            NaN   \n",
       "3                                                NaN            NaN   \n",
       "4  Mayur More, Jitendra Kumar, Ranjan Raj, Alam K...          India   \n",
       "\n",
       "           date_added  release_year rating   duration  \\\n",
       "0  September 25, 2021          2020  PG-13     90 min   \n",
       "1  September 24, 2021          2021  TV-MA  2 Seasons   \n",
       "2  September 24, 2021          2021  TV-MA   1 Season   \n",
       "3  September 24, 2021          2021  TV-MA   1 Season   \n",
       "4  September 24, 2021          2021  TV-MA  2 Seasons   \n",
       "\n",
       "                                           listed_in  \\\n",
       "0                                      Documentaries   \n",
       "1    International TV Shows, TV Dramas, TV Mysteries   \n",
       "2  Crime TV Shows, International TV Shows, TV Act...   \n",
       "3                             Docuseries, Reality TV   \n",
       "4  International TV Shows, Romantic TV Shows, TV ...   \n",
       "\n",
       "                                         description  \n",
       "0  As her father nears the end of his life, filmm...  \n",
       "1  After crossing paths at a party, a Cape Town t...  \n",
       "2  To protect his family from a powerful drug lor...  \n",
       "3  Feuds, flirtations and toilet talk go down amo...  \n",
       "4  In a city of coaching centers known to train I...  "
      ]
     },
     "execution_count": 7,
     "metadata": {},
     "output_type": "execute_result"
    }
   ],
   "source": [
    "amazon.head()"
   ]
  },
  {
   "cell_type": "markdown",
   "id": "ac91eab7",
   "metadata": {},
   "source": [
    "<h3>.tail()</h3>\n",
    "Tail is used to show the  last 5 rows by default. "
   ]
  },
  {
   "cell_type": "code",
   "execution_count": 8,
   "id": "9221747b",
   "metadata": {},
   "outputs": [
    {
     "data": {
      "text/html": [
       "<div>\n",
       "<style scoped>\n",
       "    .dataframe tbody tr th:only-of-type {\n",
       "        vertical-align: middle;\n",
       "    }\n",
       "\n",
       "    .dataframe tbody tr th {\n",
       "        vertical-align: top;\n",
       "    }\n",
       "\n",
       "    .dataframe thead th {\n",
       "        text-align: right;\n",
       "    }\n",
       "</style>\n",
       "<table border=\"1\" class=\"dataframe\">\n",
       "  <thead>\n",
       "    <tr style=\"text-align: right;\">\n",
       "      <th></th>\n",
       "      <th>show_id</th>\n",
       "      <th>type</th>\n",
       "      <th>title</th>\n",
       "      <th>director</th>\n",
       "      <th>cast</th>\n",
       "      <th>country</th>\n",
       "      <th>date_added</th>\n",
       "      <th>release_year</th>\n",
       "      <th>rating</th>\n",
       "      <th>duration</th>\n",
       "      <th>listed_in</th>\n",
       "      <th>description</th>\n",
       "    </tr>\n",
       "  </thead>\n",
       "  <tbody>\n",
       "    <tr>\n",
       "      <th>8802</th>\n",
       "      <td>s8803</td>\n",
       "      <td>Movie</td>\n",
       "      <td>Zodiac</td>\n",
       "      <td>David Fincher</td>\n",
       "      <td>Mark Ruffalo, Jake Gyllenhaal, Robert Downey J...</td>\n",
       "      <td>United States</td>\n",
       "      <td>November 20, 2019</td>\n",
       "      <td>2007</td>\n",
       "      <td>R</td>\n",
       "      <td>158 min</td>\n",
       "      <td>Cult Movies, Dramas, Thrillers</td>\n",
       "      <td>A political cartoonist, a crime reporter and a...</td>\n",
       "    </tr>\n",
       "    <tr>\n",
       "      <th>8803</th>\n",
       "      <td>s8804</td>\n",
       "      <td>TV Show</td>\n",
       "      <td>Zombie Dumb</td>\n",
       "      <td>NaN</td>\n",
       "      <td>NaN</td>\n",
       "      <td>NaN</td>\n",
       "      <td>July 1, 2019</td>\n",
       "      <td>2018</td>\n",
       "      <td>TV-Y7</td>\n",
       "      <td>2 Seasons</td>\n",
       "      <td>Kids' TV, Korean TV Shows, TV Comedies</td>\n",
       "      <td>While living alone in a spooky town, a young g...</td>\n",
       "    </tr>\n",
       "    <tr>\n",
       "      <th>8804</th>\n",
       "      <td>s8805</td>\n",
       "      <td>Movie</td>\n",
       "      <td>Zombieland</td>\n",
       "      <td>Ruben Fleischer</td>\n",
       "      <td>Jesse Eisenberg, Woody Harrelson, Emma Stone, ...</td>\n",
       "      <td>United States</td>\n",
       "      <td>November 1, 2019</td>\n",
       "      <td>2009</td>\n",
       "      <td>R</td>\n",
       "      <td>88 min</td>\n",
       "      <td>Comedies, Horror Movies</td>\n",
       "      <td>Looking to survive in a world taken over by zo...</td>\n",
       "    </tr>\n",
       "    <tr>\n",
       "      <th>8805</th>\n",
       "      <td>s8806</td>\n",
       "      <td>Movie</td>\n",
       "      <td>Zoom</td>\n",
       "      <td>Peter Hewitt</td>\n",
       "      <td>Tim Allen, Courteney Cox, Chevy Chase, Kate Ma...</td>\n",
       "      <td>United States</td>\n",
       "      <td>January 11, 2020</td>\n",
       "      <td>2006</td>\n",
       "      <td>PG</td>\n",
       "      <td>88 min</td>\n",
       "      <td>Children &amp; Family Movies, Comedies</td>\n",
       "      <td>Dragged from civilian life, a former superhero...</td>\n",
       "    </tr>\n",
       "    <tr>\n",
       "      <th>8806</th>\n",
       "      <td>s8807</td>\n",
       "      <td>Movie</td>\n",
       "      <td>Zubaan</td>\n",
       "      <td>Mozez Singh</td>\n",
       "      <td>Vicky Kaushal, Sarah-Jane Dias, Raaghav Chanan...</td>\n",
       "      <td>India</td>\n",
       "      <td>March 2, 2019</td>\n",
       "      <td>2015</td>\n",
       "      <td>TV-14</td>\n",
       "      <td>111 min</td>\n",
       "      <td>Dramas, International Movies, Music &amp; Musicals</td>\n",
       "      <td>A scrappy but poor boy worms his way into a ty...</td>\n",
       "    </tr>\n",
       "  </tbody>\n",
       "</table>\n",
       "</div>"
      ],
      "text/plain": [
       "     show_id     type        title         director  \\\n",
       "8802   s8803    Movie       Zodiac    David Fincher   \n",
       "8803   s8804  TV Show  Zombie Dumb              NaN   \n",
       "8804   s8805    Movie   Zombieland  Ruben Fleischer   \n",
       "8805   s8806    Movie         Zoom     Peter Hewitt   \n",
       "8806   s8807    Movie       Zubaan      Mozez Singh   \n",
       "\n",
       "                                                   cast        country  \\\n",
       "8802  Mark Ruffalo, Jake Gyllenhaal, Robert Downey J...  United States   \n",
       "8803                                                NaN            NaN   \n",
       "8804  Jesse Eisenberg, Woody Harrelson, Emma Stone, ...  United States   \n",
       "8805  Tim Allen, Courteney Cox, Chevy Chase, Kate Ma...  United States   \n",
       "8806  Vicky Kaushal, Sarah-Jane Dias, Raaghav Chanan...          India   \n",
       "\n",
       "             date_added  release_year rating   duration  \\\n",
       "8802  November 20, 2019          2007      R    158 min   \n",
       "8803       July 1, 2019          2018  TV-Y7  2 Seasons   \n",
       "8804   November 1, 2019          2009      R     88 min   \n",
       "8805   January 11, 2020          2006     PG     88 min   \n",
       "8806      March 2, 2019          2015  TV-14    111 min   \n",
       "\n",
       "                                           listed_in  \\\n",
       "8802                  Cult Movies, Dramas, Thrillers   \n",
       "8803          Kids' TV, Korean TV Shows, TV Comedies   \n",
       "8804                         Comedies, Horror Movies   \n",
       "8805              Children & Family Movies, Comedies   \n",
       "8806  Dramas, International Movies, Music & Musicals   \n",
       "\n",
       "                                            description  \n",
       "8802  A political cartoonist, a crime reporter and a...  \n",
       "8803  While living alone in a spooky town, a young g...  \n",
       "8804  Looking to survive in a world taken over by zo...  \n",
       "8805  Dragged from civilian life, a former superhero...  \n",
       "8806  A scrappy but poor boy worms his way into a ty...  "
      ]
     },
     "execution_count": 8,
     "metadata": {},
     "output_type": "execute_result"
    }
   ],
   "source": [
    "amazon.tail()"
   ]
  },
  {
   "cell_type": "markdown",
   "id": "a5162665",
   "metadata": {},
   "source": [
    "<h3>.shape</h3>\n",
    "It shows the total rows and columns in the dataset."
   ]
  },
  {
   "cell_type": "code",
   "execution_count": 11,
   "id": "7351a68d",
   "metadata": {},
   "outputs": [
    {
     "data": {
      "text/plain": [
       "(8807, 12)"
      ]
     },
     "execution_count": 11,
     "metadata": {},
     "output_type": "execute_result"
    }
   ],
   "source": [
    "amazon.shape"
   ]
  },
  {
   "cell_type": "markdown",
   "id": "14862703",
   "metadata": {},
   "source": [
    "<h3>.columns</h3>\n",
    "It shows the total no. of columns in dataset"
   ]
  },
  {
   "cell_type": "code",
   "execution_count": 13,
   "id": "5382d681",
   "metadata": {},
   "outputs": [
    {
     "data": {
      "text/plain": [
       "Index(['show_id', 'type', 'title', 'director', 'cast', 'country', 'date_added',\n",
       "       'release_year', 'rating', 'duration', 'listed_in', 'description'],\n",
       "      dtype='object')"
      ]
     },
     "execution_count": 13,
     "metadata": {},
     "output_type": "execute_result"
    }
   ],
   "source": [
    "amazon.columns"
   ]
  },
  {
   "cell_type": "markdown",
   "id": "508f2726",
   "metadata": {},
   "source": [
    "<h3>.dtypes</h3>\n",
    "This attribute show the data type of each column"
   ]
  },
  {
   "cell_type": "code",
   "execution_count": 14,
   "id": "6a75534e",
   "metadata": {},
   "outputs": [
    {
     "data": {
      "text/plain": [
       "show_id         object\n",
       "type            object\n",
       "title           object\n",
       "director        object\n",
       "cast            object\n",
       "country         object\n",
       "date_added      object\n",
       "release_year     int64\n",
       "rating          object\n",
       "duration        object\n",
       "listed_in       object\n",
       "description     object\n",
       "dtype: object"
      ]
     },
     "execution_count": 14,
     "metadata": {},
     "output_type": "execute_result"
    }
   ],
   "source": [
    "amazon.dtypes"
   ]
  },
  {
   "cell_type": "markdown",
   "id": "fe39fe87",
   "metadata": {},
   "source": [
    "<h3>.unique()</h3>\n",
    "In a column,It show the unique value of specific column."
   ]
  },
  {
   "cell_type": "code",
   "execution_count": 15,
   "id": "48065640",
   "metadata": {},
   "outputs": [
    {
     "data": {
      "text/plain": [
       "array(['Kirsten Johnson', nan, 'Julien Leclercq', ..., 'Majid Al Ansari',\n",
       "       'Peter Hewitt', 'Mozez Singh'], dtype=object)"
      ]
     },
     "execution_count": 15,
     "metadata": {},
     "output_type": "execute_result"
    }
   ],
   "source": [
    "amazon[\"director\"].unique()"
   ]
  },
  {
   "cell_type": "markdown",
   "id": "dbe7ed80",
   "metadata": {},
   "source": [
    "<h3>.nunique()</h3>\n",
    "It will show the total no of unique value from whole data frame"
   ]
  },
  {
   "cell_type": "code",
   "execution_count": 16,
   "id": "3b1ac223",
   "metadata": {},
   "outputs": [
    {
     "data": {
      "text/plain": [
       "show_id         8807\n",
       "type               2\n",
       "title           8807\n",
       "director        4528\n",
       "cast            7692\n",
       "country          748\n",
       "date_added      1767\n",
       "release_year      74\n",
       "rating            17\n",
       "duration         220\n",
       "listed_in        514\n",
       "description     8775\n",
       "dtype: int64"
      ]
     },
     "execution_count": 16,
     "metadata": {},
     "output_type": "execute_result"
    }
   ],
   "source": [
    "amazon.nunique()"
   ]
  },
  {
   "cell_type": "markdown",
   "id": "4e3c6ef1",
   "metadata": {},
   "source": [
    "<h3>.describe()</h3>\n",
    "It show the Count,mean,median,etc"
   ]
  },
  {
   "cell_type": "code",
   "execution_count": 17,
   "id": "13131039",
   "metadata": {},
   "outputs": [
    {
     "data": {
      "text/html": [
       "<div>\n",
       "<style scoped>\n",
       "    .dataframe tbody tr th:only-of-type {\n",
       "        vertical-align: middle;\n",
       "    }\n",
       "\n",
       "    .dataframe tbody tr th {\n",
       "        vertical-align: top;\n",
       "    }\n",
       "\n",
       "    .dataframe thead th {\n",
       "        text-align: right;\n",
       "    }\n",
       "</style>\n",
       "<table border=\"1\" class=\"dataframe\">\n",
       "  <thead>\n",
       "    <tr style=\"text-align: right;\">\n",
       "      <th></th>\n",
       "      <th>release_year</th>\n",
       "    </tr>\n",
       "  </thead>\n",
       "  <tbody>\n",
       "    <tr>\n",
       "      <th>count</th>\n",
       "      <td>8807.000000</td>\n",
       "    </tr>\n",
       "    <tr>\n",
       "      <th>mean</th>\n",
       "      <td>2014.180198</td>\n",
       "    </tr>\n",
       "    <tr>\n",
       "      <th>std</th>\n",
       "      <td>8.819312</td>\n",
       "    </tr>\n",
       "    <tr>\n",
       "      <th>min</th>\n",
       "      <td>1925.000000</td>\n",
       "    </tr>\n",
       "    <tr>\n",
       "      <th>25%</th>\n",
       "      <td>2013.000000</td>\n",
       "    </tr>\n",
       "    <tr>\n",
       "      <th>50%</th>\n",
       "      <td>2017.000000</td>\n",
       "    </tr>\n",
       "    <tr>\n",
       "      <th>75%</th>\n",
       "      <td>2019.000000</td>\n",
       "    </tr>\n",
       "    <tr>\n",
       "      <th>max</th>\n",
       "      <td>2021.000000</td>\n",
       "    </tr>\n",
       "  </tbody>\n",
       "</table>\n",
       "</div>"
      ],
      "text/plain": [
       "       release_year\n",
       "count   8807.000000\n",
       "mean    2014.180198\n",
       "std        8.819312\n",
       "min     1925.000000\n",
       "25%     2013.000000\n",
       "50%     2017.000000\n",
       "75%     2019.000000\n",
       "max     2021.000000"
      ]
     },
     "execution_count": 17,
     "metadata": {},
     "output_type": "execute_result"
    }
   ],
   "source": [
    "amazon.describe()"
   ]
  },
  {
   "cell_type": "markdown",
   "id": "55723523",
   "metadata": {},
   "source": [
    "<h3>.value_counts</h3>\n",
    "It shows all the unique values with their count"
   ]
  },
  {
   "cell_type": "code",
   "execution_count": 18,
   "id": "0d398a99",
   "metadata": {},
   "outputs": [
    {
     "data": {
      "text/plain": [
       "director\n",
       "Rajiv Chilaka                     19\n",
       "Raúl Campos, Jan Suter            18\n",
       "Marcus Raboy                      16\n",
       "Suhas Kadav                       16\n",
       "Jay Karas                         14\n",
       "                                  ..\n",
       "Raymie Muzquiz, Stu Livingston     1\n",
       "Joe Menendez                       1\n",
       "Eric Bross                         1\n",
       "Will Eisenberg                     1\n",
       "Mozez Singh                        1\n",
       "Name: count, Length: 4528, dtype: int64"
      ]
     },
     "execution_count": 18,
     "metadata": {},
     "output_type": "execute_result"
    }
   ],
   "source": [
    "amazon[\"director\"].value_counts()"
   ]
  },
  {
   "cell_type": "markdown",
   "id": "4a2b5a40",
   "metadata": {},
   "source": [
    "<h3>.isnull()</h3>\n",
    "It shows the how many null values in dataset"
   ]
  },
  {
   "cell_type": "code",
   "execution_count": 19,
   "id": "84a5ce01",
   "metadata": {},
   "outputs": [
    {
     "data": {
      "text/html": [
       "<div>\n",
       "<style scoped>\n",
       "    .dataframe tbody tr th:only-of-type {\n",
       "        vertical-align: middle;\n",
       "    }\n",
       "\n",
       "    .dataframe tbody tr th {\n",
       "        vertical-align: top;\n",
       "    }\n",
       "\n",
       "    .dataframe thead th {\n",
       "        text-align: right;\n",
       "    }\n",
       "</style>\n",
       "<table border=\"1\" class=\"dataframe\">\n",
       "  <thead>\n",
       "    <tr style=\"text-align: right;\">\n",
       "      <th></th>\n",
       "      <th>show_id</th>\n",
       "      <th>type</th>\n",
       "      <th>title</th>\n",
       "      <th>director</th>\n",
       "      <th>cast</th>\n",
       "      <th>country</th>\n",
       "      <th>date_added</th>\n",
       "      <th>release_year</th>\n",
       "      <th>rating</th>\n",
       "      <th>duration</th>\n",
       "      <th>listed_in</th>\n",
       "      <th>description</th>\n",
       "    </tr>\n",
       "  </thead>\n",
       "  <tbody>\n",
       "    <tr>\n",
       "      <th>0</th>\n",
       "      <td>False</td>\n",
       "      <td>False</td>\n",
       "      <td>False</td>\n",
       "      <td>False</td>\n",
       "      <td>True</td>\n",
       "      <td>False</td>\n",
       "      <td>False</td>\n",
       "      <td>False</td>\n",
       "      <td>False</td>\n",
       "      <td>False</td>\n",
       "      <td>False</td>\n",
       "      <td>False</td>\n",
       "    </tr>\n",
       "    <tr>\n",
       "      <th>1</th>\n",
       "      <td>False</td>\n",
       "      <td>False</td>\n",
       "      <td>False</td>\n",
       "      <td>True</td>\n",
       "      <td>False</td>\n",
       "      <td>False</td>\n",
       "      <td>False</td>\n",
       "      <td>False</td>\n",
       "      <td>False</td>\n",
       "      <td>False</td>\n",
       "      <td>False</td>\n",
       "      <td>False</td>\n",
       "    </tr>\n",
       "    <tr>\n",
       "      <th>2</th>\n",
       "      <td>False</td>\n",
       "      <td>False</td>\n",
       "      <td>False</td>\n",
       "      <td>False</td>\n",
       "      <td>False</td>\n",
       "      <td>True</td>\n",
       "      <td>False</td>\n",
       "      <td>False</td>\n",
       "      <td>False</td>\n",
       "      <td>False</td>\n",
       "      <td>False</td>\n",
       "      <td>False</td>\n",
       "    </tr>\n",
       "    <tr>\n",
       "      <th>3</th>\n",
       "      <td>False</td>\n",
       "      <td>False</td>\n",
       "      <td>False</td>\n",
       "      <td>True</td>\n",
       "      <td>True</td>\n",
       "      <td>True</td>\n",
       "      <td>False</td>\n",
       "      <td>False</td>\n",
       "      <td>False</td>\n",
       "      <td>False</td>\n",
       "      <td>False</td>\n",
       "      <td>False</td>\n",
       "    </tr>\n",
       "    <tr>\n",
       "      <th>4</th>\n",
       "      <td>False</td>\n",
       "      <td>False</td>\n",
       "      <td>False</td>\n",
       "      <td>True</td>\n",
       "      <td>False</td>\n",
       "      <td>False</td>\n",
       "      <td>False</td>\n",
       "      <td>False</td>\n",
       "      <td>False</td>\n",
       "      <td>False</td>\n",
       "      <td>False</td>\n",
       "      <td>False</td>\n",
       "    </tr>\n",
       "    <tr>\n",
       "      <th>...</th>\n",
       "      <td>...</td>\n",
       "      <td>...</td>\n",
       "      <td>...</td>\n",
       "      <td>...</td>\n",
       "      <td>...</td>\n",
       "      <td>...</td>\n",
       "      <td>...</td>\n",
       "      <td>...</td>\n",
       "      <td>...</td>\n",
       "      <td>...</td>\n",
       "      <td>...</td>\n",
       "      <td>...</td>\n",
       "    </tr>\n",
       "    <tr>\n",
       "      <th>8802</th>\n",
       "      <td>False</td>\n",
       "      <td>False</td>\n",
       "      <td>False</td>\n",
       "      <td>False</td>\n",
       "      <td>False</td>\n",
       "      <td>False</td>\n",
       "      <td>False</td>\n",
       "      <td>False</td>\n",
       "      <td>False</td>\n",
       "      <td>False</td>\n",
       "      <td>False</td>\n",
       "      <td>False</td>\n",
       "    </tr>\n",
       "    <tr>\n",
       "      <th>8803</th>\n",
       "      <td>False</td>\n",
       "      <td>False</td>\n",
       "      <td>False</td>\n",
       "      <td>True</td>\n",
       "      <td>True</td>\n",
       "      <td>True</td>\n",
       "      <td>False</td>\n",
       "      <td>False</td>\n",
       "      <td>False</td>\n",
       "      <td>False</td>\n",
       "      <td>False</td>\n",
       "      <td>False</td>\n",
       "    </tr>\n",
       "    <tr>\n",
       "      <th>8804</th>\n",
       "      <td>False</td>\n",
       "      <td>False</td>\n",
       "      <td>False</td>\n",
       "      <td>False</td>\n",
       "      <td>False</td>\n",
       "      <td>False</td>\n",
       "      <td>False</td>\n",
       "      <td>False</td>\n",
       "      <td>False</td>\n",
       "      <td>False</td>\n",
       "      <td>False</td>\n",
       "      <td>False</td>\n",
       "    </tr>\n",
       "    <tr>\n",
       "      <th>8805</th>\n",
       "      <td>False</td>\n",
       "      <td>False</td>\n",
       "      <td>False</td>\n",
       "      <td>False</td>\n",
       "      <td>False</td>\n",
       "      <td>False</td>\n",
       "      <td>False</td>\n",
       "      <td>False</td>\n",
       "      <td>False</td>\n",
       "      <td>False</td>\n",
       "      <td>False</td>\n",
       "      <td>False</td>\n",
       "    </tr>\n",
       "    <tr>\n",
       "      <th>8806</th>\n",
       "      <td>False</td>\n",
       "      <td>False</td>\n",
       "      <td>False</td>\n",
       "      <td>False</td>\n",
       "      <td>False</td>\n",
       "      <td>False</td>\n",
       "      <td>False</td>\n",
       "      <td>False</td>\n",
       "      <td>False</td>\n",
       "      <td>False</td>\n",
       "      <td>False</td>\n",
       "      <td>False</td>\n",
       "    </tr>\n",
       "  </tbody>\n",
       "</table>\n",
       "<p>8807 rows × 12 columns</p>\n",
       "</div>"
      ],
      "text/plain": [
       "      show_id   type  title  director   cast  country  date_added  \\\n",
       "0       False  False  False     False   True    False       False   \n",
       "1       False  False  False      True  False    False       False   \n",
       "2       False  False  False     False  False     True       False   \n",
       "3       False  False  False      True   True     True       False   \n",
       "4       False  False  False      True  False    False       False   \n",
       "...       ...    ...    ...       ...    ...      ...         ...   \n",
       "8802    False  False  False     False  False    False       False   \n",
       "8803    False  False  False      True   True     True       False   \n",
       "8804    False  False  False     False  False    False       False   \n",
       "8805    False  False  False     False  False    False       False   \n",
       "8806    False  False  False     False  False    False       False   \n",
       "\n",
       "      release_year  rating  duration  listed_in  description  \n",
       "0            False   False     False      False        False  \n",
       "1            False   False     False      False        False  \n",
       "2            False   False     False      False        False  \n",
       "3            False   False     False      False        False  \n",
       "4            False   False     False      False        False  \n",
       "...            ...     ...       ...        ...          ...  \n",
       "8802         False   False     False      False        False  \n",
       "8803         False   False     False      False        False  \n",
       "8804         False   False     False      False        False  \n",
       "8805         False   False     False      False        False  \n",
       "8806         False   False     False      False        False  \n",
       "\n",
       "[8807 rows x 12 columns]"
      ]
     },
     "execution_count": 19,
     "metadata": {},
     "output_type": "execute_result"
    }
   ],
   "source": [
    "amazon.isnull()"
   ]
  },
  {
   "cell_type": "markdown",
   "id": "ab529436",
   "metadata": {},
   "source": [
    "<h3>.isnull().sum()</h3>\n",
    "It shows the how many null values in each column."
   ]
  },
  {
   "cell_type": "code",
   "execution_count": 22,
   "id": "33a5ff24",
   "metadata": {},
   "outputs": [
    {
     "data": {
      "text/plain": [
       "show_id            0\n",
       "type               0\n",
       "title              0\n",
       "director        2634\n",
       "cast             825\n",
       "country          831\n",
       "date_added        10\n",
       "release_year       0\n",
       "rating             4\n",
       "duration           3\n",
       "listed_in          0\n",
       "description        0\n",
       "dtype: int64"
      ]
     },
     "execution_count": 22,
     "metadata": {},
     "output_type": "execute_result"
    }
   ],
   "source": [
    "amazon.isnull().sum()"
   ]
  },
  {
   "cell_type": "markdown",
   "id": "db75a5b3",
   "metadata": {},
   "source": [
    "<h3>.info()</h3>\n",
    "It shows the information of dataset."
   ]
  },
  {
   "cell_type": "code",
   "execution_count": 20,
   "id": "6a409f96",
   "metadata": {},
   "outputs": [
    {
     "name": "stdout",
     "output_type": "stream",
     "text": [
      "<class 'pandas.core.frame.DataFrame'>\n",
      "RangeIndex: 8807 entries, 0 to 8806\n",
      "Data columns (total 12 columns):\n",
      " #   Column        Non-Null Count  Dtype \n",
      "---  ------        --------------  ----- \n",
      " 0   show_id       8807 non-null   object\n",
      " 1   type          8807 non-null   object\n",
      " 2   title         8807 non-null   object\n",
      " 3   director      6173 non-null   object\n",
      " 4   cast          7982 non-null   object\n",
      " 5   country       7976 non-null   object\n",
      " 6   date_added    8797 non-null   object\n",
      " 7   release_year  8807 non-null   int64 \n",
      " 8   rating        8803 non-null   object\n",
      " 9   duration      8804 non-null   object\n",
      " 10  listed_in     8807 non-null   object\n",
      " 11  description   8807 non-null   object\n",
      "dtypes: int64(1), object(11)\n",
      "memory usage: 825.8+ KB\n"
     ]
    }
   ],
   "source": [
    "amazon.info()"
   ]
  },
  {
   "cell_type": "markdown",
   "id": "463ea977",
   "metadata": {},
   "source": [
    "<h3>.fillna()</h3>\n",
    "It is used to fill the null values."
   ]
  },
  {
   "cell_type": "code",
   "execution_count": 26,
   "id": "a608abcc",
   "metadata": {},
   "outputs": [],
   "source": [
    "amazon=amazon.fillna(method='bfill')"
   ]
  },
  {
   "cell_type": "code",
   "execution_count": 27,
   "id": "70b3a31d",
   "metadata": {},
   "outputs": [
    {
     "data": {
      "text/plain": [
       "show_id         0\n",
       "type            0\n",
       "title           0\n",
       "director        0\n",
       "cast            0\n",
       "country         0\n",
       "date_added      0\n",
       "release_year    0\n",
       "rating          0\n",
       "duration        0\n",
       "listed_in       0\n",
       "description     0\n",
       "dtype: int64"
      ]
     },
     "execution_count": 27,
     "metadata": {},
     "output_type": "execute_result"
    }
   ],
   "source": [
    "amazon.isnull().sum()"
   ]
  },
  {
   "cell_type": "code",
   "execution_count": 33,
   "id": "53c31aac",
   "metadata": {},
   "outputs": [
    {
     "data": {
      "image/png": "[encoded data removed]",
      "text/plain": [
       "<Figure size 250x250 with 2 Axes>"
      ]
     },
     "metadata": {},
     "output_type": "display_data"
    }
   ],
   "source": [
    "\n",
    "sns.pairplot(amazon);"
   ]
  },
  {
   "cell_type": "markdown",
   "id": "13300952",
   "metadata": {},
   "source": [
    "<h2>In which year Heighest number of TV shows and Movies were release.</h2>"
   ]
  },
  {
   "cell_type": "code",
   "execution_count": 34,
   "id": "00acefe9",
   "metadata": {},
   "outputs": [
    {
     "data": {
      "text/plain": [
       "release_year\n",
       "2018    1147\n",
       "2017    1032\n",
       "2019    1030\n",
       "2020     953\n",
       "2016     902\n",
       "        ... \n",
       "1959       1\n",
       "1925       1\n",
       "1961       1\n",
       "1947       1\n",
       "1966       1\n",
       "Name: count, Length: 74, dtype: int64"
      ]
     },
     "execution_count": 34,
     "metadata": {},
     "output_type": "execute_result"
    }
   ],
   "source": [
    "amazon['release_year'].value_counts()"
   ]
  },
  {
   "cell_type": "markdown",
   "id": "90961137",
   "metadata": {},
   "source": [
    "<h2>How many Movies and TV shows are in the dataset</h2>"
   ]
  },
  {
   "cell_type": "code",
   "execution_count": 36,
   "id": "0951c363",
   "metadata": {},
   "outputs": [
    {
     "data": {
      "text/plain": [
       "type\n",
       "Movie      6131\n",
       "TV Show    2676\n",
       "Name: count, dtype: int64"
      ]
     },
     "execution_count": 36,
     "metadata": {},
     "output_type": "execute_result"
    }
   ],
   "source": [
    "amazon.type.value_counts()"
   ]
  },
  {
   "cell_type": "code",
   "execution_count": 37,
   "id": "1a196bcc",
   "metadata": {},
   "outputs": [
    {
     "data": {
      "text/plain": [
       "<Axes: xlabel='type'>"
      ]
     },
     "execution_count": 37,
     "metadata": {},
     "output_type": "execute_result"
    },
    {
     "data": {
      "image/png": "[encoded data removed]",
      "text/plain": [
       "<Figure size 640x480 with 1 Axes>"
      ]
     },
     "metadata": {},
     "output_type": "display_data"
    }
   ],
   "source": [
    "amazon.type.value_counts().plot(kind = \"bar\")"
   ]
  },
  {
   "cell_type": "markdown",
   "id": "e0f1a4b0",
   "metadata": {},
   "source": [
    "<h2>Show all records Type is \"Movies\" & Country is \"United Kingdom\"."
   ]
  },
  {
   "cell_type": "code",
   "execution_count": 45,
   "id": "5e871e15",
   "metadata": {},
   "outputs": [
    {
     "data": {
      "text/html": [
       "<div>\n",
       "<style scoped>\n",
       "    .dataframe tbody tr th:only-of-type {\n",
       "        vertical-align: middle;\n",
       "    }\n",
       "\n",
       "    .dataframe tbody tr th {\n",
       "        vertical-align: top;\n",
       "    }\n",
       "\n",
       "    .dataframe thead th {\n",
       "        text-align: right;\n",
       "    }\n",
       "</style>\n",
       "<table border=\"1\" class=\"dataframe\">\n",
       "  <thead>\n",
       "    <tr style=\"text-align: right;\">\n",
       "      <th></th>\n",
       "      <th>show_id</th>\n",
       "      <th>type</th>\n",
       "      <th>title</th>\n",
       "      <th>director</th>\n",
       "      <th>cast</th>\n",
       "      <th>country</th>\n",
       "      <th>date_added</th>\n",
       "      <th>release_year</th>\n",
       "      <th>rating</th>\n",
       "      <th>duration</th>\n",
       "      <th>listed_in</th>\n",
       "      <th>description</th>\n",
       "    </tr>\n",
       "  </thead>\n",
       "  <tbody>\n",
       "    <tr>\n",
       "      <th>35</th>\n",
       "      <td>s36</td>\n",
       "      <td>Movie</td>\n",
       "      <td>The Father Who Moves Mountains</td>\n",
       "      <td>Daniel Sandu</td>\n",
       "      <td>Adrian Titieni, Elena Purea, Judith State, Val...</td>\n",
       "      <td>United Kingdom</td>\n",
       "      <td>September 17, 2021</td>\n",
       "      <td>2021</td>\n",
       "      <td>TV-MA</td>\n",
       "      <td>110 min</td>\n",
       "      <td>Dramas, International Movies, Thrillers</td>\n",
       "      <td>When his son goes missing during a snowy hike ...</td>\n",
       "    </tr>\n",
       "    <tr>\n",
       "      <th>36</th>\n",
       "      <td>s37</td>\n",
       "      <td>Movie</td>\n",
       "      <td>The Stronghold</td>\n",
       "      <td>Cédric Jimenez</td>\n",
       "      <td>Gilles Lellouche, Karim Leklou, François Civil...</td>\n",
       "      <td>United Kingdom</td>\n",
       "      <td>September 17, 2021</td>\n",
       "      <td>2021</td>\n",
       "      <td>TV-MA</td>\n",
       "      <td>105 min</td>\n",
       "      <td>Action &amp; Adventure, Dramas, International Movies</td>\n",
       "      <td>Tired of the small-time grind, three Marseille...</td>\n",
       "    </tr>\n",
       "    <tr>\n",
       "      <th>233</th>\n",
       "      <td>s234</td>\n",
       "      <td>Movie</td>\n",
       "      <td>Count Me In</td>\n",
       "      <td>Mark Lo</td>\n",
       "      <td>Pat Sajak, Vanna White</td>\n",
       "      <td>United Kingdom</td>\n",
       "      <td>August 24, 2021</td>\n",
       "      <td>2021</td>\n",
       "      <td>TV-MA</td>\n",
       "      <td>82 min</td>\n",
       "      <td>Documentaries, Music &amp; Musicals</td>\n",
       "      <td>This documentary features some of rock's great...</td>\n",
       "    </tr>\n",
       "    <tr>\n",
       "      <th>235</th>\n",
       "      <td>s236</td>\n",
       "      <td>Movie</td>\n",
       "      <td>Untold: Caitlyn Jenner</td>\n",
       "      <td>Crystal Moselle</td>\n",
       "      <td>Pat Sajak, Vanna White</td>\n",
       "      <td>United Kingdom</td>\n",
       "      <td>August 24, 2021</td>\n",
       "      <td>2021</td>\n",
       "      <td>TV-PG</td>\n",
       "      <td>70 min</td>\n",
       "      <td>Documentaries, LGBTQ Movies, Sports Movies</td>\n",
       "      <td>Caitlyn Jenner's unlikely path to Olympic glor...</td>\n",
       "    </tr>\n",
       "    <tr>\n",
       "      <th>236</th>\n",
       "      <td>s237</td>\n",
       "      <td>Movie</td>\n",
       "      <td>Boomika</td>\n",
       "      <td>Rathindran R Prasad</td>\n",
       "      <td>Aishwarya Rajesh, Vidhu, Surya Ganapathy, Madh...</td>\n",
       "      <td>United Kingdom</td>\n",
       "      <td>August 23, 2021</td>\n",
       "      <td>2021</td>\n",
       "      <td>TV-14</td>\n",
       "      <td>122 min</td>\n",
       "      <td>Horror Movies, International Movies, Thrillers</td>\n",
       "      <td>Paranormal activity at a lush, abandoned prope...</td>\n",
       "    </tr>\n",
       "    <tr>\n",
       "      <th>237</th>\n",
       "      <td>s238</td>\n",
       "      <td>Movie</td>\n",
       "      <td>Boomika (Hindi)</td>\n",
       "      <td>Rathindran R Prasad</td>\n",
       "      <td>Aishwarya Rajesh, Vidhu, Surya Ganapathy, Madh...</td>\n",
       "      <td>United Kingdom</td>\n",
       "      <td>August 23, 2021</td>\n",
       "      <td>2021</td>\n",
       "      <td>TV-14</td>\n",
       "      <td>122 min</td>\n",
       "      <td>Horror Movies, International Movies, Thrillers</td>\n",
       "      <td>Paranormal activity at a lush, abandoned prope...</td>\n",
       "    </tr>\n",
       "    <tr>\n",
       "      <th>238</th>\n",
       "      <td>s239</td>\n",
       "      <td>Movie</td>\n",
       "      <td>Boomika (Malayalam)</td>\n",
       "      <td>Rathindran R Prasad</td>\n",
       "      <td>Aishwarya Rajesh, Vidhu, Surya Ganapathy, Madh...</td>\n",
       "      <td>United Kingdom</td>\n",
       "      <td>August 23, 2021</td>\n",
       "      <td>2021</td>\n",
       "      <td>TV-14</td>\n",
       "      <td>122 min</td>\n",
       "      <td>Horror Movies, International Movies, Thrillers</td>\n",
       "      <td>Paranormal activity at a lush, abandoned prope...</td>\n",
       "    </tr>\n",
       "    <tr>\n",
       "      <th>239</th>\n",
       "      <td>s240</td>\n",
       "      <td>Movie</td>\n",
       "      <td>Boomika (Telugu)</td>\n",
       "      <td>Rathindran R Prasad</td>\n",
       "      <td>Aishwarya Rajesh, Vidhu, Surya Ganapathy, Madh...</td>\n",
       "      <td>United Kingdom</td>\n",
       "      <td>August 23, 2021</td>\n",
       "      <td>2021</td>\n",
       "      <td>TV-14</td>\n",
       "      <td>122 min</td>\n",
       "      <td>Horror Movies, International Movies, Thrillers</td>\n",
       "      <td>Paranormal activity at a lush, abandoned prope...</td>\n",
       "    </tr>\n",
       "    <tr>\n",
       "      <th>240</th>\n",
       "      <td>s241</td>\n",
       "      <td>Movie</td>\n",
       "      <td>The Witcher: Nightmare of the Wolf</td>\n",
       "      <td>Han Kwang Il</td>\n",
       "      <td>Theo James, Mary McDonnell, Lara Pulver, Graha...</td>\n",
       "      <td>United Kingdom</td>\n",
       "      <td>August 23, 2021</td>\n",
       "      <td>2021</td>\n",
       "      <td>TV-MA</td>\n",
       "      <td>84 min</td>\n",
       "      <td>Action &amp; Adventure, Anime Features</td>\n",
       "      <td>Escaping from poverty to become a witcher, Ves...</td>\n",
       "    </tr>\n",
       "    <tr>\n",
       "      <th>292</th>\n",
       "      <td>s293</td>\n",
       "      <td>Movie</td>\n",
       "      <td>Quartet</td>\n",
       "      <td>Dustin Hoffman</td>\n",
       "      <td>Maggie Smith, Tom Courtenay, Billy Connolly, P...</td>\n",
       "      <td>United Kingdom</td>\n",
       "      <td>August 8, 2021</td>\n",
       "      <td>2012</td>\n",
       "      <td>PG-13</td>\n",
       "      <td>98 min</td>\n",
       "      <td>Comedies, Dramas, Independent Movies</td>\n",
       "      <td>To save their posh retirement home, former ope...</td>\n",
       "    </tr>\n",
       "  </tbody>\n",
       "</table>\n",
       "</div>"
      ],
      "text/plain": [
       "    show_id   type                               title             director  \\\n",
       "35      s36  Movie      The Father Who Moves Mountains         Daniel Sandu   \n",
       "36      s37  Movie                      The Stronghold       Cédric Jimenez   \n",
       "233    s234  Movie                         Count Me In              Mark Lo   \n",
       "235    s236  Movie              Untold: Caitlyn Jenner      Crystal Moselle   \n",
       "236    s237  Movie                             Boomika  Rathindran R Prasad   \n",
       "237    s238  Movie                     Boomika (Hindi)  Rathindran R Prasad   \n",
       "238    s239  Movie                 Boomika (Malayalam)  Rathindran R Prasad   \n",
       "239    s240  Movie                    Boomika (Telugu)  Rathindran R Prasad   \n",
       "240    s241  Movie  The Witcher: Nightmare of the Wolf         Han Kwang Il   \n",
       "292    s293  Movie                             Quartet       Dustin Hoffman   \n",
       "\n",
       "                                                  cast         country  \\\n",
       "35   Adrian Titieni, Elena Purea, Judith State, Val...  United Kingdom   \n",
       "36   Gilles Lellouche, Karim Leklou, François Civil...  United Kingdom   \n",
       "233                             Pat Sajak, Vanna White  United Kingdom   \n",
       "235                             Pat Sajak, Vanna White  United Kingdom   \n",
       "236  Aishwarya Rajesh, Vidhu, Surya Ganapathy, Madh...  United Kingdom   \n",
       "237  Aishwarya Rajesh, Vidhu, Surya Ganapathy, Madh...  United Kingdom   \n",
       "238  Aishwarya Rajesh, Vidhu, Surya Ganapathy, Madh...  United Kingdom   \n",
       "239  Aishwarya Rajesh, Vidhu, Surya Ganapathy, Madh...  United Kingdom   \n",
       "240  Theo James, Mary McDonnell, Lara Pulver, Graha...  United Kingdom   \n",
       "292  Maggie Smith, Tom Courtenay, Billy Connolly, P...  United Kingdom   \n",
       "\n",
       "             date_added  release_year rating duration  \\\n",
       "35   September 17, 2021          2021  TV-MA  110 min   \n",
       "36   September 17, 2021          2021  TV-MA  105 min   \n",
       "233     August 24, 2021          2021  TV-MA   82 min   \n",
       "235     August 24, 2021          2021  TV-PG   70 min   \n",
       "236     August 23, 2021          2021  TV-14  122 min   \n",
       "237     August 23, 2021          2021  TV-14  122 min   \n",
       "238     August 23, 2021          2021  TV-14  122 min   \n",
       "239     August 23, 2021          2021  TV-14  122 min   \n",
       "240     August 23, 2021          2021  TV-MA   84 min   \n",
       "292      August 8, 2021          2012  PG-13   98 min   \n",
       "\n",
       "                                            listed_in  \\\n",
       "35            Dramas, International Movies, Thrillers   \n",
       "36   Action & Adventure, Dramas, International Movies   \n",
       "233                   Documentaries, Music & Musicals   \n",
       "235        Documentaries, LGBTQ Movies, Sports Movies   \n",
       "236    Horror Movies, International Movies, Thrillers   \n",
       "237    Horror Movies, International Movies, Thrillers   \n",
       "238    Horror Movies, International Movies, Thrillers   \n",
       "239    Horror Movies, International Movies, Thrillers   \n",
       "240                Action & Adventure, Anime Features   \n",
       "292              Comedies, Dramas, Independent Movies   \n",
       "\n",
       "                                           description  \n",
       "35   When his son goes missing during a snowy hike ...  \n",
       "36   Tired of the small-time grind, three Marseille...  \n",
       "233  This documentary features some of rock's great...  \n",
       "235  Caitlyn Jenner's unlikely path to Olympic glor...  \n",
       "236  Paranormal activity at a lush, abandoned prope...  \n",
       "237  Paranormal activity at a lush, abandoned prope...  \n",
       "238  Paranormal activity at a lush, abandoned prope...  \n",
       "239  Paranormal activity at a lush, abandoned prope...  \n",
       "240  Escaping from poverty to become a witcher, Ves...  \n",
       "292  To save their posh retirement home, former ope...  "
      ]
     },
     "execution_count": 45,
     "metadata": {},
     "output_type": "execute_result"
    }
   ],
   "source": [
    "amazon[(amazon[\"type\"] == \"Movie\") & (amazon[\"country\"] == \"United Kingdom\")].head(10)"
   ]
  },
  {
   "cell_type": "markdown",
   "id": "488bb016",
   "metadata": {},
   "source": [
    "<h2>Show all records Type is \"Movies\" & director is \"Marcus Raboy\"."
   ]
  },
  {
   "cell_type": "code",
   "execution_count": 49,
   "id": "08169b2a",
   "metadata": {},
   "outputs": [
    {
     "data": {
      "text/html": [
       "<div>\n",
       "<style scoped>\n",
       "    .dataframe tbody tr th:only-of-type {\n",
       "        vertical-align: middle;\n",
       "    }\n",
       "\n",
       "    .dataframe tbody tr th {\n",
       "        vertical-align: top;\n",
       "    }\n",
       "\n",
       "    .dataframe thead th {\n",
       "        text-align: right;\n",
       "    }\n",
       "</style>\n",
       "<table border=\"1\" class=\"dataframe\">\n",
       "  <thead>\n",
       "    <tr style=\"text-align: right;\">\n",
       "      <th></th>\n",
       "      <th>show_id</th>\n",
       "      <th>type</th>\n",
       "      <th>title</th>\n",
       "      <th>director</th>\n",
       "      <th>cast</th>\n",
       "      <th>country</th>\n",
       "      <th>date_added</th>\n",
       "      <th>release_year</th>\n",
       "      <th>rating</th>\n",
       "      <th>duration</th>\n",
       "      <th>listed_in</th>\n",
       "      <th>description</th>\n",
       "    </tr>\n",
       "  </thead>\n",
       "  <tbody>\n",
       "    <tr>\n",
       "      <th>2849</th>\n",
       "      <td>s2850</td>\n",
       "      <td>Movie</td>\n",
       "      <td>Taylor Tomlinson: Quarter-Life Crisis</td>\n",
       "      <td>Marcus Raboy</td>\n",
       "      <td>Taylor Tomlinson</td>\n",
       "      <td>United States</td>\n",
       "      <td>March 3, 2020</td>\n",
       "      <td>2020</td>\n",
       "      <td>TV-MA</td>\n",
       "      <td>61 min</td>\n",
       "      <td>Stand-Up Comedy</td>\n",
       "      <td>She's halfway through her 20s — and she's over...</td>\n",
       "    </tr>\n",
       "    <tr>\n",
       "      <th>3635</th>\n",
       "      <td>s3636</td>\n",
       "      <td>Movie</td>\n",
       "      <td>Whitney Cummings: Can I Touch It?</td>\n",
       "      <td>Marcus Raboy</td>\n",
       "      <td>Whitney Cummings</td>\n",
       "      <td>Canada</td>\n",
       "      <td>July 30, 2019</td>\n",
       "      <td>2019</td>\n",
       "      <td>TV-MA</td>\n",
       "      <td>59 min</td>\n",
       "      <td>Stand-Up Comedy</td>\n",
       "      <td>In her fourth stand-up special, Whitney Cummin...</td>\n",
       "    </tr>\n",
       "    <tr>\n",
       "      <th>3776</th>\n",
       "      <td>s3777</td>\n",
       "      <td>Movie</td>\n",
       "      <td>Miranda Sings Live…Your Welcome</td>\n",
       "      <td>Marcus Raboy</td>\n",
       "      <td>Colleen Ballinger</td>\n",
       "      <td>United States</td>\n",
       "      <td>June 4, 2019</td>\n",
       "      <td>2019</td>\n",
       "      <td>TV-14</td>\n",
       "      <td>62 min</td>\n",
       "      <td>Stand-Up Comedy</td>\n",
       "      <td>Viral video star Miranda Sings and her real-wo...</td>\n",
       "    </tr>\n",
       "    <tr>\n",
       "      <th>3877</th>\n",
       "      <td>s3878</td>\n",
       "      <td>Movie</td>\n",
       "      <td>Anthony Jeselnik: Fire in the Maternity Ward</td>\n",
       "      <td>Marcus Raboy</td>\n",
       "      <td>Anthony Jeselnik</td>\n",
       "      <td>United States</td>\n",
       "      <td>April 30, 2019</td>\n",
       "      <td>2019</td>\n",
       "      <td>TV-MA</td>\n",
       "      <td>64 min</td>\n",
       "      <td>Stand-Up Comedy</td>\n",
       "      <td>Forging his own comedic boundaries, Anthony Je...</td>\n",
       "    </tr>\n",
       "    <tr>\n",
       "      <th>4314</th>\n",
       "      <td>s4315</td>\n",
       "      <td>Movie</td>\n",
       "      <td>Vir Das: Losing It</td>\n",
       "      <td>Marcus Raboy</td>\n",
       "      <td>Vir Das</td>\n",
       "      <td>United States</td>\n",
       "      <td>December 11, 2018</td>\n",
       "      <td>2018</td>\n",
       "      <td>TV-MA</td>\n",
       "      <td>68 min</td>\n",
       "      <td>Stand-Up Comedy</td>\n",
       "      <td>The world's got a lot of problems, but Vir Das...</td>\n",
       "    </tr>\n",
       "  </tbody>\n",
       "</table>\n",
       "</div>"
      ],
      "text/plain": [
       "     show_id   type                                         title  \\\n",
       "2849   s2850  Movie         Taylor Tomlinson: Quarter-Life Crisis   \n",
       "3635   s3636  Movie             Whitney Cummings: Can I Touch It?   \n",
       "3776   s3777  Movie               Miranda Sings Live…Your Welcome   \n",
       "3877   s3878  Movie  Anthony Jeselnik: Fire in the Maternity Ward   \n",
       "4314   s4315  Movie                            Vir Das: Losing It   \n",
       "\n",
       "          director               cast        country         date_added  \\\n",
       "2849  Marcus Raboy   Taylor Tomlinson  United States      March 3, 2020   \n",
       "3635  Marcus Raboy   Whitney Cummings         Canada      July 30, 2019   \n",
       "3776  Marcus Raboy  Colleen Ballinger  United States       June 4, 2019   \n",
       "3877  Marcus Raboy   Anthony Jeselnik  United States     April 30, 2019   \n",
       "4314  Marcus Raboy            Vir Das  United States  December 11, 2018   \n",
       "\n",
       "      release_year rating duration        listed_in  \\\n",
       "2849          2020  TV-MA   61 min  Stand-Up Comedy   \n",
       "3635          2019  TV-MA   59 min  Stand-Up Comedy   \n",
       "3776          2019  TV-14   62 min  Stand-Up Comedy   \n",
       "3877          2019  TV-MA   64 min  Stand-Up Comedy   \n",
       "4314          2018  TV-MA   68 min  Stand-Up Comedy   \n",
       "\n",
       "                                            description  \n",
       "2849  She's halfway through her 20s — and she's over...  \n",
       "3635  In her fourth stand-up special, Whitney Cummin...  \n",
       "3776  Viral video star Miranda Sings and her real-wo...  \n",
       "3877  Forging his own comedic boundaries, Anthony Je...  \n",
       "4314  The world's got a lot of problems, but Vir Das...  "
      ]
     },
     "execution_count": 49,
     "metadata": {},
     "output_type": "execute_result"
    }
   ],
   "source": [
    "amazon[(amazon[\"type\"] == \"Movie\") & (amazon[\"director\"] == \"Marcus Raboy\")].head(5)"
   ]
  },
  {
   "cell_type": "markdown",
   "id": "8e5ac69c",
   "metadata": {},
   "source": [
    "<h2>show top 3 directors, who gave the heighest number if TV shows and movies Released on prime video.</h2>"
   ]
  },
  {
   "cell_type": "code",
   "execution_count": 50,
   "id": "5846fe1a",
   "metadata": {},
   "outputs": [
    {
     "data": {
      "text/plain": [
       "director\n",
       "Marcus Raboy              32\n",
       "Raúl Campos, Jan Suter    23\n",
       "Jay Karas                 22\n",
       "Name: count, dtype: int64"
      ]
     },
     "execution_count": 50,
     "metadata": {},
     "output_type": "execute_result"
    }
   ],
   "source": [
    "amazon[\"director\"].value_counts().head(3)"
   ]
  },
  {
   "cell_type": "markdown",
   "id": "dcdd05c9",
   "metadata": {},
   "source": [
    "<h2>in 2018 how many Movies are released</h2>"
   ]
  },
  {
   "cell_type": "code",
   "execution_count": 64,
   "id": "58235a69",
   "metadata": {},
   "outputs": [
    {
     "data": {
      "text/html": [
       "<div>\n",
       "<style scoped>\n",
       "    .dataframe tbody tr th:only-of-type {\n",
       "        vertical-align: middle;\n",
       "    }\n",
       "\n",
       "    .dataframe tbody tr th {\n",
       "        vertical-align: top;\n",
       "    }\n",
       "\n",
       "    .dataframe thead th {\n",
       "        text-align: right;\n",
       "    }\n",
       "</style>\n",
       "<table border=\"1\" class=\"dataframe\">\n",
       "  <thead>\n",
       "    <tr style=\"text-align: right;\">\n",
       "      <th></th>\n",
       "      <th>show_id</th>\n",
       "      <th>type</th>\n",
       "      <th>title</th>\n",
       "      <th>director</th>\n",
       "      <th>cast</th>\n",
       "      <th>country</th>\n",
       "      <th>date_added</th>\n",
       "      <th>release_year</th>\n",
       "      <th>rating</th>\n",
       "      <th>duration</th>\n",
       "      <th>listed_in</th>\n",
       "      <th>description</th>\n",
       "    </tr>\n",
       "  </thead>\n",
       "  <tbody>\n",
       "    <tr>\n",
       "      <th>73</th>\n",
       "      <td>s74</td>\n",
       "      <td>Movie</td>\n",
       "      <td>King of Boys</td>\n",
       "      <td>Kemi Adetiba</td>\n",
       "      <td>Sola Sobowale, Adesua Etomi, Remilekun \"Remini...</td>\n",
       "      <td>Nigeria</td>\n",
       "      <td>September 14, 2021</td>\n",
       "      <td>2018</td>\n",
       "      <td>TV-MA</td>\n",
       "      <td>182 min</td>\n",
       "      <td>Dramas, International Movies</td>\n",
       "      <td>When a powerful businesswoman’s political ambi...</td>\n",
       "    </tr>\n",
       "    <tr>\n",
       "      <th>94</th>\n",
       "      <td>s95</td>\n",
       "      <td>Movie</td>\n",
       "      <td>Show Dogs</td>\n",
       "      <td>Raja Gosnell</td>\n",
       "      <td>Will Arnett, Ludacris, Natasha Lyonne, Stanley...</td>\n",
       "      <td>United Kingdom, United States</td>\n",
       "      <td>September 8, 2021</td>\n",
       "      <td>2018</td>\n",
       "      <td>PG</td>\n",
       "      <td>90 min</td>\n",
       "      <td>Children &amp; Family Movies, Comedies</td>\n",
       "      <td>A rough and tough police dog must go undercove...</td>\n",
       "    </tr>\n",
       "    <tr>\n",
       "      <th>96</th>\n",
       "      <td>s97</td>\n",
       "      <td>Movie</td>\n",
       "      <td>If I Leave Here Tomorrow: A Film About Lynyrd ...</td>\n",
       "      <td>Stephen Kijak</td>\n",
       "      <td>Ronnie Van Zandt, Gary Rossington, Allen Colli...</td>\n",
       "      <td>United States</td>\n",
       "      <td>September 7, 2021</td>\n",
       "      <td>2018</td>\n",
       "      <td>TV-MA</td>\n",
       "      <td>97 min</td>\n",
       "      <td>Documentaries, Music &amp; Musicals</td>\n",
       "      <td>Using interviews and archival footage, this do...</td>\n",
       "    </tr>\n",
       "    <tr>\n",
       "      <th>107</th>\n",
       "      <td>s108</td>\n",
       "      <td>Movie</td>\n",
       "      <td>A Champion Heart</td>\n",
       "      <td>David de Vos</td>\n",
       "      <td>Mandy Grace, David de Vos, Donna Rusch, Devan ...</td>\n",
       "      <td>United States</td>\n",
       "      <td>September 4, 2021</td>\n",
       "      <td>2018</td>\n",
       "      <td>G</td>\n",
       "      <td>90 min</td>\n",
       "      <td>Children &amp; Family Movies, Dramas</td>\n",
       "      <td>When a grieving teen must work off her debt to...</td>\n",
       "    </tr>\n",
       "    <tr>\n",
       "      <th>157</th>\n",
       "      <td>s158</td>\n",
       "      <td>Movie</td>\n",
       "      <td>Level 16</td>\n",
       "      <td>Danishka Esterhazy</td>\n",
       "      <td>Katie Douglas, Celina Martin, Peter Outerbridg...</td>\n",
       "      <td>Canada</td>\n",
       "      <td>September 1, 2021</td>\n",
       "      <td>2018</td>\n",
       "      <td>TV-14</td>\n",
       "      <td>102 min</td>\n",
       "      <td>Sci-Fi &amp; Fantasy, Thrillers</td>\n",
       "      <td>In a bleak academy that teaches girls the virt...</td>\n",
       "    </tr>\n",
       "  </tbody>\n",
       "</table>\n",
       "</div>"
      ],
      "text/plain": [
       "    show_id   type                                              title  \\\n",
       "73      s74  Movie                                       King of Boys   \n",
       "94      s95  Movie                                          Show Dogs   \n",
       "96      s97  Movie  If I Leave Here Tomorrow: A Film About Lynyrd ...   \n",
       "107    s108  Movie                                   A Champion Heart   \n",
       "157    s158  Movie                                           Level 16   \n",
       "\n",
       "               director                                               cast  \\\n",
       "73         Kemi Adetiba  Sola Sobowale, Adesua Etomi, Remilekun \"Remini...   \n",
       "94         Raja Gosnell  Will Arnett, Ludacris, Natasha Lyonne, Stanley...   \n",
       "96        Stephen Kijak  Ronnie Van Zandt, Gary Rossington, Allen Colli...   \n",
       "107        David de Vos  Mandy Grace, David de Vos, Donna Rusch, Devan ...   \n",
       "157  Danishka Esterhazy  Katie Douglas, Celina Martin, Peter Outerbridg...   \n",
       "\n",
       "                           country          date_added  release_year rating  \\\n",
       "73                         Nigeria  September 14, 2021          2018  TV-MA   \n",
       "94   United Kingdom, United States   September 8, 2021          2018     PG   \n",
       "96                   United States   September 7, 2021          2018  TV-MA   \n",
       "107                  United States   September 4, 2021          2018      G   \n",
       "157                         Canada   September 1, 2021          2018  TV-14   \n",
       "\n",
       "    duration                           listed_in  \\\n",
       "73   182 min        Dramas, International Movies   \n",
       "94    90 min  Children & Family Movies, Comedies   \n",
       "96    97 min     Documentaries, Music & Musicals   \n",
       "107   90 min    Children & Family Movies, Dramas   \n",
       "157  102 min         Sci-Fi & Fantasy, Thrillers   \n",
       "\n",
       "                                           description  \n",
       "73   When a powerful businesswoman’s political ambi...  \n",
       "94   A rough and tough police dog must go undercove...  \n",
       "96   Using interviews and archival footage, this do...  \n",
       "107  When a grieving teen must work off her debt to...  \n",
       "157  In a bleak academy that teaches girls the virt...  "
      ]
     },
     "execution_count": 64,
     "metadata": {},
     "output_type": "execute_result"
    }
   ],
   "source": [
    "amazon[(amazon[\"type\"] == \"Movie\") & (amazon[\"release_year\"] == 2018)].head()"
   ]
  },
  {
   "cell_type": "markdown",
   "id": "75a8cad6",
   "metadata": {},
   "source": [
    "<h2>In which year heighest rating show in a plot</h2>"
   ]
  },
  {
   "cell_type": "code",
   "execution_count": 65,
   "id": "7544da1b",
   "metadata": {},
   "outputs": [
    {
     "data": {
      "text/plain": [
       "<Axes: xlabel='release_year', ylabel='rating'>"
      ]
     },
     "execution_count": 65,
     "metadata": {},
     "output_type": "execute_result"
    },
    {
     "data": {
      "image/png": "[encoded data removed]",
      "text/plain": [
       "<Figure size 640x480 with 1 Axes>"
      ]
     },
     "metadata": {},
     "output_type": "display_data"
    }
   ],
   "source": [
    "sns.stripplot(x = \"release_year\" , y = \"rating\", data= amazon)"
   ]
  },
  {
   "cell_type": "code",
   "execution_count": null,
   "id": "91d29c59",
   "metadata": {},
   "outputs": [],
   "source": []
  }
 ],
 "metadata": {
  "kernelspec": {
   "display_name": "Python 3 (ipykernel)",
   "language": "python",
   "name": "python3"
  },
  "language_info": {
   "codemirror_mode": {
    "name": "ipython",
    "version": 3
   },
   "file_extension": ".py",
   "mimetype": "text/x-python",
   "name": "python",
   "nbconvert_exporter": "python",
   "pygments_lexer": "ipython3",
   "version": "3.11.5"
  }
 },
 "nbformat": 4,
 "nbformat_minor": 5
}
